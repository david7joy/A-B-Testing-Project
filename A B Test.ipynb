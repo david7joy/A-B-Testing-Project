{
 "cells": [
  {
   "cell_type": "code",
   "execution_count": 164,
   "metadata": {},
   "outputs": [],
   "source": [
    "import pandas as pd\n",
    "import numpy as np\n",
    "import scipy.stats"
   ]
  },
  {
   "cell_type": "code",
   "execution_count": 152,
   "metadata": {},
   "outputs": [],
   "source": [
    "def generate_experiment_df(size=10000):\n",
    "    lower = 1\n",
    "    upper = 60*24\n",
    "    mu = 30\n",
    "    sigma = 15\n",
    "    a = (lower-mu)/sigma\n",
    "    b = (upper-mu)/sigma\n",
    "    df = pd.DataFrame(\n",
    "        data = {'player_id' : np.arange(size).astype(str),\n",
    "               'experiment' : 0,\n",
    "               'treatment_id' : np.random.choice(['A','B'],size=size),\n",
    "                'metric_id' : 'session_length',\n",
    "                'metric_value' : scipy.stats.truncnorm.rvs(a=a, b=b, loc=mu,scale=sigma,size=size)\n",
    "               },)\n",
    "    return df[['player_id','experiment','treatment_id','metric_id','metric_value']]\n",
    "    "
   ]
  },
  {
   "cell_type": "code",
   "execution_count": 153,
   "metadata": {},
   "outputs": [
    {
     "data": {
      "text/html": [
       "<div>\n",
       "<style scoped>\n",
       "    .dataframe tbody tr th:only-of-type {\n",
       "        vertical-align: middle;\n",
       "    }\n",
       "\n",
       "    .dataframe tbody tr th {\n",
       "        vertical-align: top;\n",
       "    }\n",
       "\n",
       "    .dataframe thead th {\n",
       "        text-align: right;\n",
       "    }\n",
       "</style>\n",
       "<table border=\"1\" class=\"dataframe\">\n",
       "  <thead>\n",
       "    <tr style=\"text-align: right;\">\n",
       "      <th></th>\n",
       "      <th>player_id</th>\n",
       "      <th>experiment</th>\n",
       "      <th>treatment_id</th>\n",
       "      <th>metric_id</th>\n",
       "      <th>metric_value</th>\n",
       "    </tr>\n",
       "  </thead>\n",
       "  <tbody>\n",
       "    <tr>\n",
       "      <th>0</th>\n",
       "      <td>0</td>\n",
       "      <td>0</td>\n",
       "      <td>A</td>\n",
       "      <td>session_length</td>\n",
       "      <td>58.187713</td>\n",
       "    </tr>\n",
       "    <tr>\n",
       "      <th>1</th>\n",
       "      <td>1</td>\n",
       "      <td>0</td>\n",
       "      <td>A</td>\n",
       "      <td>session_length</td>\n",
       "      <td>23.293527</td>\n",
       "    </tr>\n",
       "    <tr>\n",
       "      <th>2</th>\n",
       "      <td>2</td>\n",
       "      <td>0</td>\n",
       "      <td>B</td>\n",
       "      <td>session_length</td>\n",
       "      <td>39.685642</td>\n",
       "    </tr>\n",
       "    <tr>\n",
       "      <th>3</th>\n",
       "      <td>3</td>\n",
       "      <td>0</td>\n",
       "      <td>B</td>\n",
       "      <td>session_length</td>\n",
       "      <td>16.775225</td>\n",
       "    </tr>\n",
       "    <tr>\n",
       "      <th>4</th>\n",
       "      <td>4</td>\n",
       "      <td>0</td>\n",
       "      <td>A</td>\n",
       "      <td>session_length</td>\n",
       "      <td>21.284667</td>\n",
       "    </tr>\n",
       "  </tbody>\n",
       "</table>\n",
       "</div>"
      ],
      "text/plain": [
       "  player_id  experiment treatment_id       metric_id  metric_value\n",
       "0         0           0            A  session_length     58.187713\n",
       "1         1           0            A  session_length     23.293527\n",
       "2         2           0            B  session_length     39.685642\n",
       "3         3           0            B  session_length     16.775225\n",
       "4         4           0            A  session_length     21.284667"
      ]
     },
     "execution_count": 153,
     "metadata": {},
     "output_type": "execute_result"
    }
   ],
   "source": [
    "df = generate_experiment_df()\n",
    "df.head(5)"
   ]
  },
  {
   "cell_type": "code",
   "execution_count": 154,
   "metadata": {},
   "outputs": [
    {
     "data": {
      "text/html": [
       "<div>\n",
       "<style scoped>\n",
       "    .dataframe tbody tr th:only-of-type {\n",
       "        vertical-align: middle;\n",
       "    }\n",
       "\n",
       "    .dataframe tbody tr th {\n",
       "        vertical-align: top;\n",
       "    }\n",
       "\n",
       "    .dataframe thead tr th {\n",
       "        text-align: left;\n",
       "    }\n",
       "\n",
       "    .dataframe thead tr:last-of-type th {\n",
       "        text-align: right;\n",
       "    }\n",
       "</style>\n",
       "<table border=\"1\" class=\"dataframe\">\n",
       "  <thead>\n",
       "    <tr>\n",
       "      <th></th>\n",
       "      <th></th>\n",
       "      <th></th>\n",
       "      <th colspan=\"8\" halign=\"left\">metric_value</th>\n",
       "    </tr>\n",
       "    <tr>\n",
       "      <th></th>\n",
       "      <th></th>\n",
       "      <th></th>\n",
       "      <th>count</th>\n",
       "      <th>mean</th>\n",
       "      <th>std</th>\n",
       "      <th>min</th>\n",
       "      <th>25%</th>\n",
       "      <th>50%</th>\n",
       "      <th>75%</th>\n",
       "      <th>max</th>\n",
       "    </tr>\n",
       "    <tr>\n",
       "      <th>experiment</th>\n",
       "      <th>treatment_id</th>\n",
       "      <th>metric_id</th>\n",
       "      <th></th>\n",
       "      <th></th>\n",
       "      <th></th>\n",
       "      <th></th>\n",
       "      <th></th>\n",
       "      <th></th>\n",
       "      <th></th>\n",
       "      <th></th>\n",
       "    </tr>\n",
       "  </thead>\n",
       "  <tbody>\n",
       "    <tr>\n",
       "      <th rowspan=\"2\" valign=\"top\">0</th>\n",
       "      <th>A</th>\n",
       "      <th>session_length</th>\n",
       "      <td>4988.0</td>\n",
       "      <td>30.769587</td>\n",
       "      <td>13.853980</td>\n",
       "      <td>1.044831</td>\n",
       "      <td>21.031187</td>\n",
       "      <td>30.058082</td>\n",
       "      <td>40.202625</td>\n",
       "      <td>81.123536</td>\n",
       "    </tr>\n",
       "    <tr>\n",
       "      <th>B</th>\n",
       "      <th>session_length</th>\n",
       "      <td>5012.0</td>\n",
       "      <td>30.681265</td>\n",
       "      <td>14.000525</td>\n",
       "      <td>1.058610</td>\n",
       "      <td>20.855239</td>\n",
       "      <td>30.166814</td>\n",
       "      <td>40.011888</td>\n",
       "      <td>82.408136</td>\n",
       "    </tr>\n",
       "  </tbody>\n",
       "</table>\n",
       "</div>"
      ],
      "text/plain": [
       "                                       metric_value                        \\\n",
       "                                              count       mean        std   \n",
       "experiment treatment_id metric_id                                           \n",
       "0          A            session_length       4988.0  30.769587  13.853980   \n",
       "           B            session_length       5012.0  30.681265  14.000525   \n",
       "\n",
       "                                                                        \\\n",
       "                                             min        25%        50%   \n",
       "experiment treatment_id metric_id                                        \n",
       "0          A            session_length  1.044831  21.031187  30.058082   \n",
       "           B            session_length  1.058610  20.855239  30.166814   \n",
       "\n",
       "                                                              \n",
       "                                              75%        max  \n",
       "experiment treatment_id metric_id                             \n",
       "0          A            session_length  40.202625  81.123536  \n",
       "           B            session_length  40.011888  82.408136  "
      ]
     },
     "execution_count": 154,
     "metadata": {},
     "output_type": "execute_result"
    }
   ],
   "source": [
    "df.groupby(by=['experiment','treatment_id','metric_id']).describe()"
   ]
  },
  {
   "cell_type": "code",
   "execution_count": 155,
   "metadata": {},
   "outputs": [],
   "source": [
    "from statsmodels.stats.api import ttest_ind"
   ]
  },
  {
   "cell_type": "code",
   "execution_count": 156,
   "metadata": {},
   "outputs": [],
   "source": [
    "A = df.query('treatment_id == \"A\" and metric_id == \"session_length\"')['metric_value']\n",
    "B = df.query('treatment_id == \"B\" and metric_id == \"session_length\"')['metric_value']"
   ]
  },
  {
   "cell_type": "code",
   "execution_count": 157,
   "metadata": {},
   "outputs": [
    {
     "name": "stdout",
     "output_type": "stream",
     "text": [
      "tstat :0.31707466905845966\n",
      "pvalue :0.6244032171573435\n",
      "degreeofFreedom :9998.0\n"
     ]
    }
   ],
   "source": [
    "tstat,pvalue,degreeofFreedom = ttest_ind(A,B,alternative='smaller')\n",
    "print('tstat :'+str(tstat))\n",
    "print('pvalue :'+str(pvalue))\n",
    "print('degreeofFreedom :'+str(degreeofFreedom))"
   ]
  },
  {
   "cell_type": "code",
   "execution_count": 158,
   "metadata": {},
   "outputs": [
    {
     "name": "stdout",
     "output_type": "stream",
     "text": [
      "1.6450060485564049\n",
      "0.95\n"
     ]
    }
   ],
   "source": [
    "# Student t-distribution Percent Point Function\n",
    "from scipy.stats import t\n",
    "# define probability\n",
    "p = 0.95\n",
    "dfr = 9998\n",
    "# retrieve value <= probability\n",
    "value = t.ppf(p, dfr)\n",
    "print(value)\n",
    "# confirm with cdf\n",
    "p = t.cdf(value, dfr)\n",
    "print(p)"
   ]
  },
  {
   "cell_type": "code",
   "execution_count": 159,
   "metadata": {},
   "outputs": [
    {
     "name": "stdout",
     "output_type": "stream",
     "text": [
      "We do not reject null\n"
     ]
    }
   ],
   "source": [
    "if (-1*value) < tstat:\n",
    "    print(\"We do not reject null\")\n",
    "else:\n",
    "    print(\"We reject null\")"
   ]
  },
  {
   "cell_type": "markdown",
   "metadata": {},
   "source": [
    "-1.64 < .20 thus we do not reject the null hypothesis.\n",
    "\n",
    "#### An alternative to doing this test is to do linear Regression / logistic regression and see the t stat and significance level."
   ]
  },
  {
   "cell_type": "code",
   "execution_count": 160,
   "metadata": {},
   "outputs": [],
   "source": [
    "import statsmodels.api as sm"
   ]
  },
  {
   "cell_type": "code",
   "execution_count": 161,
   "metadata": {},
   "outputs": [],
   "source": [
    "dummy = pd.get_dummies(df['treatment_id'])"
   ]
  },
  {
   "cell_type": "code",
   "execution_count": 162,
   "metadata": {},
   "outputs": [],
   "source": [
    "df1 = pd.merge(df,dummy,on=df.index)\n",
    "X  = df1[['A']].values.tolist()\n",
    "Y  = df1[['metric_value']].values.tolist()\n",
    "X  = sm.add_constant(X)"
   ]
  },
  {
   "cell_type": "code",
   "execution_count": 163,
   "metadata": {},
   "outputs": [
    {
     "name": "stdout",
     "output_type": "stream",
     "text": [
      "                            OLS Regression Results                            \n",
      "==============================================================================\n",
      "Dep. Variable:                      y   R-squared:                       0.000\n",
      "Model:                            OLS   Adj. R-squared:                 -0.000\n",
      "Method:                 Least Squares   F-statistic:                    0.1005\n",
      "Date:                Wed, 03 Apr 2019   Prob (F-statistic):              0.751\n",
      "Time:                        21:44:47   Log-Likelihood:                -40527.\n",
      "No. Observations:               10000   AIC:                         8.106e+04\n",
      "Df Residuals:                    9998   BIC:                         8.107e+04\n",
      "Df Model:                           1                                         \n",
      "Covariance Type:            nonrobust                                         \n",
      "==============================================================================\n",
      "                 coef    std err          t      P>|t|      [0.025      0.975]\n",
      "------------------------------------------------------------------------------\n",
      "const         30.6813      0.197    155.956      0.000      30.296      31.067\n",
      "x1             0.0883      0.279      0.317      0.751      -0.458       0.634\n",
      "==============================================================================\n",
      "Omnibus:                      124.870   Durbin-Watson:                   1.967\n",
      "Prob(Omnibus):                  0.000   Jarque-Bera (JB):              125.606\n",
      "Skew:                           0.259   Prob(JB):                     5.31e-28\n",
      "Kurtosis:                       2.818   Cond. No.                         2.62\n",
      "==============================================================================\n",
      "\n",
      "Warnings:\n",
      "[1] Standard Errors assume that the covariance matrix of the errors is correctly specified.\n"
     ]
    }
   ],
   "source": [
    "model = sm.OLS(Y,X)\n",
    "res = model.fit()\n",
    "print(res.summary())"
   ]
  },
  {
   "cell_type": "code",
   "execution_count": 165,
   "metadata": {},
   "outputs": [],
   "source": [
    "# Trying Multivariate Testing\n",
    "\n",
    "def generate_experiment_df(size=10000):\n",
    "    lower = 1\n",
    "    upper = 60*24\n",
    "    mu = 30\n",
    "    sigma = 15\n",
    "    a = (lower-mu)/sigma\n",
    "    b = (upper-mu)/sigma\n",
    "    df = pd.DataFrame(\n",
    "        data = {'player_id' : np.arange(size).astype(str),\n",
    "               'experiment' : 0,\n",
    "               'treatment_id' : np.random.choice(['A','B','C'],size=size),\n",
    "                'metric_id' : 'session_length',\n",
    "                'metric_value' : scipy.stats.truncnorm.rvs(a=a, b=b, loc=mu,scale=sigma,size=size)\n",
    "               },)\n",
    "    return df[['player_id','experiment','treatment_id','metric_id','metric_value']]\n",
    "    "
   ]
  },
  {
   "cell_type": "code",
   "execution_count": 166,
   "metadata": {},
   "outputs": [
    {
     "data": {
      "text/html": [
       "<div>\n",
       "<style scoped>\n",
       "    .dataframe tbody tr th:only-of-type {\n",
       "        vertical-align: middle;\n",
       "    }\n",
       "\n",
       "    .dataframe tbody tr th {\n",
       "        vertical-align: top;\n",
       "    }\n",
       "\n",
       "    .dataframe thead th {\n",
       "        text-align: right;\n",
       "    }\n",
       "</style>\n",
       "<table border=\"1\" class=\"dataframe\">\n",
       "  <thead>\n",
       "    <tr style=\"text-align: right;\">\n",
       "      <th></th>\n",
       "      <th>player_id</th>\n",
       "      <th>experiment</th>\n",
       "      <th>treatment_id</th>\n",
       "      <th>metric_id</th>\n",
       "      <th>metric_value</th>\n",
       "    </tr>\n",
       "  </thead>\n",
       "  <tbody>\n",
       "    <tr>\n",
       "      <th>0</th>\n",
       "      <td>0</td>\n",
       "      <td>0</td>\n",
       "      <td>B</td>\n",
       "      <td>session_length</td>\n",
       "      <td>30.164051</td>\n",
       "    </tr>\n",
       "    <tr>\n",
       "      <th>1</th>\n",
       "      <td>1</td>\n",
       "      <td>0</td>\n",
       "      <td>B</td>\n",
       "      <td>session_length</td>\n",
       "      <td>46.349394</td>\n",
       "    </tr>\n",
       "    <tr>\n",
       "      <th>2</th>\n",
       "      <td>2</td>\n",
       "      <td>0</td>\n",
       "      <td>A</td>\n",
       "      <td>session_length</td>\n",
       "      <td>30.289689</td>\n",
       "    </tr>\n",
       "    <tr>\n",
       "      <th>3</th>\n",
       "      <td>3</td>\n",
       "      <td>0</td>\n",
       "      <td>B</td>\n",
       "      <td>session_length</td>\n",
       "      <td>28.549957</td>\n",
       "    </tr>\n",
       "    <tr>\n",
       "      <th>4</th>\n",
       "      <td>4</td>\n",
       "      <td>0</td>\n",
       "      <td>C</td>\n",
       "      <td>session_length</td>\n",
       "      <td>17.951847</td>\n",
       "    </tr>\n",
       "  </tbody>\n",
       "</table>\n",
       "</div>"
      ],
      "text/plain": [
       "  player_id  experiment treatment_id       metric_id  metric_value\n",
       "0         0           0            B  session_length     30.164051\n",
       "1         1           0            B  session_length     46.349394\n",
       "2         2           0            A  session_length     30.289689\n",
       "3         3           0            B  session_length     28.549957\n",
       "4         4           0            C  session_length     17.951847"
      ]
     },
     "execution_count": 166,
     "metadata": {},
     "output_type": "execute_result"
    }
   ],
   "source": [
    "multiDf = generate_experiment_df()\n",
    "multiDf.head(5)"
   ]
  },
  {
   "cell_type": "code",
   "execution_count": 169,
   "metadata": {},
   "outputs": [],
   "source": [
    "dummy = pd.get_dummies(multiDf['treatment_id'])\n",
    "multiDf1 = pd.merge(multiDf,dummy,on=df.index)\n",
    "X  = multiDf1[['A','B']].values.tolist()\n",
    "Y  = multiDf1[['metric_value']].values.tolist()\n",
    "X  = sm.add_constant(X)"
   ]
  },
  {
   "cell_type": "code",
   "execution_count": 170,
   "metadata": {},
   "outputs": [
    {
     "name": "stdout",
     "output_type": "stream",
     "text": [
      "                            OLS Regression Results                            \n",
      "==============================================================================\n",
      "Dep. Variable:                      y   R-squared:                       0.000\n",
      "Model:                            OLS   Adj. R-squared:                  0.000\n",
      "Method:                 Least Squares   F-statistic:                     1.102\n",
      "Date:                Wed, 03 Apr 2019   Prob (F-statistic):              0.332\n",
      "Time:                        21:52:09   Log-Likelihood:                -40435.\n",
      "No. Observations:               10000   AIC:                         8.088e+04\n",
      "Df Residuals:                    9997   BIC:                         8.090e+04\n",
      "Df Model:                           2                                         \n",
      "Covariance Type:            nonrobust                                         \n",
      "==============================================================================\n",
      "                 coef    std err          t      P>|t|      [0.025      0.975]\n",
      "------------------------------------------------------------------------------\n",
      "const         30.5755      0.238    128.266      0.000      30.108      31.043\n",
      "x1             0.4760      0.339      1.405      0.160      -0.188       1.140\n",
      "x2             0.3758      0.337      1.116      0.265      -0.284       1.036\n",
      "==============================================================================\n",
      "Omnibus:                      132.543   Durbin-Watson:                   2.011\n",
      "Prob(Omnibus):                  0.000   Jarque-Bera (JB):              123.592\n",
      "Skew:                           0.234   Prob(JB):                     1.45e-27\n",
      "Kurtosis:                       2.722   Cond. No.                         3.72\n",
      "==============================================================================\n",
      "\n",
      "Warnings:\n",
      "[1] Standard Errors assume that the covariance matrix of the errors is correctly specified.\n"
     ]
    }
   ],
   "source": [
    "model = sm.OLS(Y,X)\n",
    "res = model.fit()\n",
    "print(res.summary())"
   ]
  },
  {
   "cell_type": "code",
   "execution_count": null,
   "metadata": {},
   "outputs": [],
   "source": []
  }
 ],
 "metadata": {
  "kernelspec": {
   "display_name": "Python 3",
   "language": "python",
   "name": "python3"
  },
  "language_info": {
   "codemirror_mode": {
    "name": "ipython",
    "version": 3
   },
   "file_extension": ".py",
   "mimetype": "text/x-python",
   "name": "python",
   "nbconvert_exporter": "python",
   "pygments_lexer": "ipython3",
   "version": "3.7.0"
  }
 },
 "nbformat": 4,
 "nbformat_minor": 2
}
